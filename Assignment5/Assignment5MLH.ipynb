{
 "cells": [
  {
   "cell_type": "markdown",
   "metadata": {},
   "source": [
    "### Assignment 5 -Miriam López Hinojosa\n"
   ]
  },
  {
   "cell_type": "markdown",
   "metadata": {},
   "source": [
    " #### UniProt SPARQL Endpoint:  http://sparql.uniprot.org/sparql"
   ]
  },
  {
   "cell_type": "markdown",
   "metadata": {},
   "source": [
    "Setting the endpoint and the format:"
   ]
  },
  {
   "cell_type": "code",
   "execution_count": 1,
   "metadata": {
    "scrolled": true
   },
   "outputs": [
    {
     "data": {
      "text/html": [
       "<div class=\"krn-spql\"><div class=\"magic\">Endpoint set to: https://sparql.uniprot.org/sparql</div><div class=\"magic\">Return format: JSON</div></div>"
      ],
      "text/plain": [
       "Endpoint set to: https://sparql.uniprot.org/sparql\n",
       "Return format: JSON\n"
      ]
     },
     "metadata": {},
     "output_type": "display_data"
    }
   ],
   "source": [
    "%endpoint https://sparql.uniprot.org/sparql\n",
    "%format JSON"
   ]
  },
  {
   "cell_type": "markdown",
   "metadata": {},
   "source": [
    "#### Q1: 1 POINT  How many protein records are in UniProt? "
   ]
  },
  {
   "cell_type": "markdown",
   "metadata": {},
   "source": [
    "We perform the query with SELECT (COUNT (?protein). This will take into account all the proteins without eliminating the duplicated ones. This is done because of the computational complexity that this selection would entail due to the large number of registered proteins.  In that case, the command would be (COUNT (DISTINCT ?protein) AS ?count).\n",
    "\n",
    "\n"
   ]
  },
  {
   "cell_type": "code",
   "execution_count": 4,
   "metadata": {},
   "outputs": [
    {
     "data": {
      "text/html": [
       "<div class=\"krn-spql\"><table><tr class=hdr><th>count</th></tr><tr class=odd><td class=val>378178000</td></tr></table><div class=\"tinfo\">Total: 1, Shown: 1</div></div>"
      ]
     },
     "metadata": {},
     "output_type": "display_data"
    }
   ],
   "source": [
    "PREFIX up: <http://purl.uniprot.org/core/>\n",
    "\n",
    "SELECT (COUNT (?protein) AS ?count)\n",
    "\n",
    "WHERE\n",
    "{\n",
    "    ?protein a up:Protein .\n",
    "}"
   ]
  },
  {
   "cell_type": "markdown",
   "metadata": {},
   "source": [
    "#### Q2: 1 POINT How many Arabidopsis thaliana protein records are in UniProt?"
   ]
  },
  {
   "cell_type": "markdown",
   "metadata": {},
   "source": [
    "Here we will select all those proteins related to \"Arabidopsis thaliana\"."
   ]
  },
  {
   "cell_type": "code",
   "execution_count": 5,
   "metadata": {},
   "outputs": [
    {
     "data": {
      "text/html": [
       "<div class=\"krn-spql\"><table><tr class=hdr><th>count</th></tr><tr class=odd><td class=val>136466</td></tr></table><div class=\"tinfo\">Total: 1, Shown: 1</div></div>"
      ]
     },
     "metadata": {},
     "output_type": "display_data"
    }
   ],
   "source": [
    "PREFIX rdfs: <http://www.w3.org/2000/01/rdf-schema#>\n",
    "PREFIX up: <http://purl.uniprot.org/core/>\n",
    "\n",
    "SELECT (COUNT (DISTINCT ?protein) AS ?count)\n",
    "\n",
    "WHERE\n",
    "{\n",
    "    ?protein a up:Protein ;\n",
    "      \t\tup:organism ?taxon_id .\n",
    "  \t?taxon_id a up:Taxon ;\n",
    "    \t\tup:scientificName \"Arabidopsis thaliana\" .\n",
    "}"
   ]
  },
  {
   "cell_type": "markdown",
   "metadata": {},
   "source": [
    "#### Q3: 1 POINT retrieve pictures of Arabidopsis thaliana from UniProt? "
   ]
  },
  {
   "cell_type": "markdown",
   "metadata": {},
   "source": [
    "Below are the images representing the organism \"Arabidopsis thaliana\" in UniProt. "
   ]
  },
  {
   "cell_type": "code",
   "execution_count": 6,
   "metadata": {},
   "outputs": [
    {
     "data": {
      "text/html": [
       "<div class=\"krn-spql\"><table><tr class=hdr><th>image</th></tr><tr class=odd><td class=val><a href=\"https://upload.wikimedia.org/wikipedia/commons/3/39/Arabidopsis.jpg\" target=\"_other\">https://upload.wikimedia.org/wikipedia/commons/3/39/Arabidopsis.jpg</a></td></tr><tr class=even><td class=val><a href=\"https://upload.wikimedia.org/wikipedia/commons/thumb/6/60/Arabidopsis_thaliana_inflorescencias.jpg/800px-Arabidopsis_thaliana_inflorescencias.jpg\" target=\"_other\">https://upload.wikimedia.org/wikipedia/commons/thumb/6/60/Arabidopsis_thaliana_inflorescencias.jpg/800px-Arabidopsis_thaliana_inflorescencias.jpg</a></td></tr></table><div class=\"tinfo\">Total: 2, Shown: 2</div></div>"
      ]
     },
     "metadata": {},
     "output_type": "display_data"
    }
   ],
   "source": [
    "PREFIX foaf: <http://xmlns.com/foaf/0.1/>\n",
    "PREFIX up: <http://purl.uniprot.org/core/>\n",
    "\n",
    "SELECT ?image\n",
    "\n",
    "WHERE\n",
    "{\n",
    "  ?taxon_id a up:Taxon;\n",
    "    \t\tup:scientificName \"Arabidopsis thaliana\";\n",
    "      \t\tfoaf:depiction ?image .\n",
    "  ?image a foaf:Image .\n",
    "}"
   ]
  },
  {
   "cell_type": "markdown",
   "metadata": {},
   "source": [
    "#### Q4: 1 POINT:  What is the description of the enzyme activity of UniProt Protein Q9SZZ8 "
   ]
  },
  {
   "cell_type": "markdown",
   "metadata": {},
   "source": [
    "La proteína Q9SZZ8 es una monooxigenasa dihierro no hemo implicada en la biosíntesis de las xantofilas. Específica para la hidroxilación del anillo beta del betacaroteno. Tiene también una baja actividad hacia los anillos beta y épsilon del alfa-caroteno. No tiene actividad con carotenoides acíclicos como el licopeno y el neurosporeno. Utiliza ferredoxina como donante de electrones. The catalytic activityis described below (activity_label). "
   ]
  },
  {
   "cell_type": "code",
   "execution_count": 9,
   "metadata": {},
   "outputs": [
    {
     "data": {
      "text/html": [
       "<div class=\"krn-spql\"><table><tr class=hdr><th>activity_label</th></tr><tr class=odd><td class=val>all-trans-beta-carotene + 4 H(+) + 2 O2 + 4 reduced [2Fe-2S]-[ferredoxin] = all-trans-zeaxanthin + 2 H2O + 4 oxidized [2Fe-2S]-[ferredoxin].</td></tr></table><div class=\"tinfo\">Total: 1, Shown: 1</div></div>"
      ]
     },
     "metadata": {},
     "output_type": "display_data"
    }
   ],
   "source": [
    "PREFIX up:<http://purl.uniprot.org/core/>\n",
    "PREFIX uniprotkb:<http://purl.uniprot.org/uniprot/>\n",
    "PREFIX rdfs:<http://www.w3.org/2000/01/rdf-schema#> \n",
    "\n",
    "SELECT ?activity_label \n",
    "\n",
    "WHERE\n",
    "{\n",
    "\tuniprotkb:Q9SZZ8 a up:Protein ;\n",
    "  \t\t\t\t\tup:enzyme ?enzyme .\n",
    "\t?enzyme up:activity ?activity .\n",
    "  \t?activity a up:Catalytic_Activity ;\n",
    "                rdfs:label ?activity_label .\n",
    "}"
   ]
  },
  {
   "cell_type": "markdown",
   "metadata": {},
   "source": [
    "#### Q5: 1 POINT:  Retrieve the proteins ids, and date of submission, for proteins that have been added to UniProt this year   (HINT Google for “SPARQL FILTER by date”)"
   ]
  },
  {
   "cell_type": "markdown",
   "metadata": {},
   "source": [
    "(Year: 2022)"
   ]
  },
  {
   "cell_type": "markdown",
   "metadata": {},
   "source": [
    "From: https://en.wikibooks.org/wiki/SPARQL/Expressions_and_Functions\n",
    "\n",
    "STR(value) converts value into a string.\n",
    "\n",
    "REPLACE(string, substring, replacement) replaces all occurrences of substring found in string by a replacement.\n",
    "\n",
    "BIND(expression as ?variable) assigns the result of expression to the variable ?variable."
   ]
  },
  {
   "cell_type": "markdown",
   "metadata": {},
   "source": [
    "Initially, a filtering of those records created throughout the year 2022 (01/01/2022-31/12/2022, both inclusive) will be performed.\n",
    "To obtain the IDs, we will associate the URI of each protein in a string, and select only the id variable.We will limit to 100 records due to the computational complexity of processing. On the Uniprot website, 16,141,928 results are registered.\n",
    "\n"
   ]
  },
  {
   "cell_type": "code",
   "execution_count": 3,
   "metadata": {},
   "outputs": [
    {
     "data": {
      "text/html": [
       "<div class=\"krn-spql\"><table><tr class=hdr><th>id</th>\n",
       "<th>date</th></tr><tr class=odd><td class=val>A0A800YMW1</td>\n",
       "<td class=val>2022-01-19</td></tr><tr class=even><td class=val>A0A8F8BGM5</td>\n",
       "<td class=val>2022-01-19</td></tr><tr class=odd><td class=val>A0A8F9UU30</td>\n",
       "<td class=val>2022-01-19</td></tr><tr class=even><td class=val>A0A8G2JS05</td>\n",
       "<td class=val>2022-01-19</td></tr><tr class=odd><td class=val>A0A8I0L7U0</td>\n",
       "<td class=val>2022-01-19</td></tr><tr class=even><td class=val>A0A8I1XEW7</td>\n",
       "<td class=val>2022-01-19</td></tr><tr class=odd><td class=val>A0A8I1XL05</td>\n",
       "<td class=val>2022-01-19</td></tr><tr class=even><td class=val>A0A8I2BVE1</td>\n",
       "<td class=val>2022-01-19</td></tr><tr class=odd><td class=val>A0A8I2FD57</td>\n",
       "<td class=val>2022-01-19</td></tr><tr class=even><td class=val>A0A8F6DW45</td>\n",
       "<td class=val>2022-01-19</td></tr><tr class=odd><td class=val>A0A8F8B7X6</td>\n",
       "<td class=val>2022-01-19</td></tr><tr class=even><td class=val>A0A8G2IUJ8</td>\n",
       "<td class=val>2022-01-19</td></tr><tr class=odd><td class=val>A0A8G2IVZ2</td>\n",
       "<td class=val>2022-01-19</td></tr><tr class=even><td class=val>A0A8G2IZA6</td>\n",
       "<td class=val>2022-01-19</td></tr><tr class=odd><td class=val>A0A8G2J5E8</td>\n",
       "<td class=val>2022-01-19</td></tr><tr class=even><td class=val>A0A8G2J5P6</td>\n",
       "<td class=val>2022-01-19</td></tr><tr class=odd><td class=val>A0A8G2J849</td>\n",
       "<td class=val>2022-01-19</td></tr><tr class=even><td class=val>A0A8G2J8A0</td>\n",
       "<td class=val>2022-01-19</td></tr><tr class=odd><td class=val>A0A8G2MVS3</td>\n",
       "<td class=val>2022-01-19</td></tr><tr class=even><td class=val>A0A8G2MY14</td>\n",
       "<td class=val>2022-01-19</td></tr></table><div class=\"tinfo\">Total: 100, Shown: 20</div></div>"
      ]
     },
     "metadata": {},
     "output_type": "display_data"
    }
   ],
   "source": [
    "PREFIX up: <http://purl.uniprot.org/core/>\n",
    "PREFIX xsd: <http://www.w3.org/2001/XMLSchema#>\n",
    "\n",
    "SELECT ?id ?date\n",
    "\n",
    "WHERE\n",
    "{\n",
    "    ?protein a up:Protein ;\n",
    "               up:created ?date .\n",
    "    FILTER (?date >= \"2022-01-01\"^^xsd:date && ?date < \"2023-01-01\"^^xsd:date) .\n",
    "    BIND (REPLACE(STR(?protein), \"http://purl.uniprot.org/uniprot/\", \"\") AS ?id) .\n",
    "    \n",
    "} LIMIT 100"
   ]
  },
  {
   "cell_type": "markdown",
   "metadata": {},
   "source": [
    "#### Q6: 1 POINT How  many species are in the UniProt taxonomy?"
   ]
  },
  {
   "cell_type": "markdown",
   "metadata": {},
   "source": [
    "Next we will count the total number of species (?taxon)."
   ]
  },
  {
   "cell_type": "code",
   "execution_count": 4,
   "metadata": {},
   "outputs": [
    {
     "data": {
      "text/html": [
       "<div class=\"krn-spql\"><table><tr class=hdr><th>count</th></tr><tr class=odd><td class=val>1984846</td></tr></table><div class=\"tinfo\">Total: 1, Shown: 1</div></div>"
      ]
     },
     "metadata": {},
     "output_type": "display_data"
    }
   ],
   "source": [
    "PREFIX up: <http://purl.uniprot.org/core/>\n",
    "\n",
    "SELECT (COUNT (DISTINCT ?taxon) AS ?count)\n",
    "\n",
    "WHERE\n",
    "{\n",
    "  ?taxon a up:Taxon;\n",
    "          up:rank up:Species .\n",
    "}"
   ]
  },
  {
   "cell_type": "markdown",
   "metadata": {},
   "source": [
    "#### Q7: 2 POINT  How many species have at least one protein record? (this might take a long time to execute, so do this one last!)"
   ]
  },
  {
   "cell_type": "markdown",
   "metadata": {},
   "source": [
    "In the following, we will count all those different species that have at least one registered protein. \n"
   ]
  },
  {
   "cell_type": "code",
   "execution_count": null,
   "metadata": {},
   "outputs": [],
   "source": [
    "PREFIX up: <http://purl.uniprot.org/core/>\n",
    "\n",
    "SELECT (COUNT (DISTINCT ?taxon) AS ?count)\n",
    "\n",
    "WHERE\n",
    "{\n",
    "  ?protein a up:Protein;\n",
    "           up:organism ?taxon .\n",
    "  ?taxon a up:Taxon;\n",
    "          up:rank up:Species .\n",
    "}"
   ]
  },
  {
   "cell_type": "markdown",
   "metadata": {},
   "source": [
    "#### Q8: 3 points:  find the AGI codes and gene names for all Arabidopsis thaliana  proteins that have a protein function annotation description that mentions “pattern formation”"
   ]
  },
  {
   "cell_type": "markdown",
   "metadata": {},
   "source": [
    "To find the AGI codes and names of those Arabidopsis thaliana protein genes that contain in the protein function annotation description the string \"pattern formation\" we use the REGEX command (string, regex, \"i\") to check if the string contains the regular expression regex (\"i\" means case insensitive)."
   ]
  },
  {
   "cell_type": "code",
   "execution_count": 2,
   "metadata": {},
   "outputs": [
    {
     "data": {
      "text/html": [
       "<div class=\"krn-spql\"><table><tr class=hdr><th>locus_code</th>\n",
       "<th>gene_name</th></tr><tr class=odd><td class=val>At3g02130</td>\n",
       "<td class=val>RPK2</td></tr><tr class=even><td class=val>At1g13980</td>\n",
       "<td class=val>GN</td></tr><tr class=odd><td class=val>At1g69270</td>\n",
       "<td class=val>RPK1</td></tr><tr class=even><td class=val>At5g37800</td>\n",
       "<td class=val>RSL1</td></tr><tr class=odd><td class=val>At3g09090</td>\n",
       "<td class=val>DEX1</td></tr><tr class=even><td class=val>At1g63700</td>\n",
       "<td class=val>YDA</td></tr><tr class=odd><td class=val>At5g55250</td>\n",
       "<td class=val>IAMT1</td></tr><tr class=even><td class=val>At1g26830</td>\n",
       "<td class=val>CUL3A</td></tr><tr class=odd><td class=val>At1g66470</td>\n",
       "<td class=val>RHD6</td></tr><tr class=even><td class=val>At5g02010</td>\n",
       "<td class=val>ROPGEF7</td></tr><tr class=odd><td class=val>At4g21750</td>\n",
       "<td class=val>ATML1</td></tr><tr class=even><td class=val>At1g69670</td>\n",
       "<td class=val>CUL3B</td></tr><tr class=odd><td class=val>At4g37650</td>\n",
       "<td class=val>SHR</td></tr><tr class=even><td class=val>At3g54220</td>\n",
       "<td class=val>SCR</td></tr><tr class=odd><td class=val>At2g46710</td>\n",
       "<td class=val>ROPGAP3</td></tr><tr class=even><td class=val>At2g42580</td>\n",
       "<td class=val>TTL3</td></tr><tr class=odd><td class=val>At5g40260</td>\n",
       "<td class=val>SWEET8</td></tr></table><div class=\"tinfo\">Total: 17, Shown: 17</div></div>"
      ]
     },
     "metadata": {},
     "output_type": "display_data"
    }
   ],
   "source": [
    "PREFIX up: <http://purl.uniprot.org/core/>\n",
    "PREFIX rdfs:<http://www.w3.org/2000/01/rdf-schema#>\n",
    "PREFIX skos: <http://www.w3.org/2004/02/skos/core#>\n",
    "\n",
    "SELECT ?locus_code ?gene_name\n",
    "\n",
    "WHERE\n",
    "{\n",
    "    # Triples of the protein variable involved with its taxon, gene and function\n",
    "    ?protein a up:Protein ;\n",
    "      \tup:organism ?taxon_id ;\n",
    "        up:encodedBy ?gene ;\n",
    "        up:annotation ?function_annot .\n",
    "    \n",
    "    # Taxon with scientific name \"Arabidopsis thaliana\"\n",
    "  \t?taxon_id a up:Taxon ;\n",
    "    \tup:scientificName \"Arabidopsis thaliana\" .\n",
    "    \n",
    "    # Gene with a locus name (AGI locus code) and a preferent label (the gene name)\n",
    "    ?gene a up:Gene ;\n",
    "        up:locusName ?locus_code ;\n",
    "        skos:prefLabel ?gene_name .\n",
    "    \n",
    "    # Function related with pattern formation,\n",
    "    # contains \"pattern formation\" in the description of the function annotation\n",
    "    ?function_annot a up:Function_Annotation ;\n",
    "                      rdfs:comment ?function_description .\n",
    "    FILTER REGEX (?function_description, \"pattern formation\", \"i\") .\n",
    "\n",
    "}"
   ]
  },
  {
   "cell_type": "markdown",
   "metadata": {},
   "source": [
    "-------------------"
   ]
  },
  {
   "cell_type": "markdown",
   "metadata": {},
   "source": [
    "#### From the MetaNetX metabolic networks for metagenomics database SPARQL Endpoint: https://rdf.metanetx.org/sparql"
   ]
  },
  {
   "cell_type": "markdown",
   "metadata": {},
   "source": [
    "Defining the endpoint:"
   ]
  },
  {
   "cell_type": "code",
   "execution_count": 3,
   "metadata": {},
   "outputs": [
    {
     "data": {
      "text/html": [
       "<div class=\"krn-spql\"><div class=\"magic\">Endpoint set to: https://rdf.metanetx.org/sparql</div></div>"
      ],
      "text/plain": [
       "Endpoint set to: https://rdf.metanetx.org/sparql\n"
      ]
     },
     "metadata": {},
     "output_type": "display_data"
    }
   ],
   "source": [
    "%endpoint https://rdf.metanetx.org/sparql"
   ]
  },
  {
   "cell_type": "markdown",
   "metadata": {},
   "source": [
    "#### Q9: 4 POINTS:  what is the MetaNetX Reaction identifier (starts with “mnxr”) for the UniProt Protein uniprotkb:Q18A79"
   ]
  },
  {
   "cell_type": "markdown",
   "metadata": {},
   "source": [
    "(From https://www.metanetx.org/cgi-bin/mnxget/mnxref/MetaNetX_RDF_schema.pdf page 9):\n",
    "\n",
    "In order to get identifiers that are not subject to change, we will use the commands \"?reac mnx:mnxr ?mnxr .\", \"?mnxr rdfs:label ?mnxr_label .\"\n"
   ]
  },
  {
   "cell_type": "code",
   "execution_count": 4,
   "metadata": {},
   "outputs": [
    {
     "data": {
      "text/html": [
       "<div class=\"krn-spql\"><table><tr class=hdr><th>mnxr_label</th></tr><tr class=odd><td class=val>MNXR165934</td></tr><tr class=even><td class=val>MNXR145046</td></tr></table><div class=\"tinfo\">Total: 2, Shown: 2</div></div>"
      ]
     },
     "metadata": {},
     "output_type": "display_data"
    }
   ],
   "source": [
    "PREFIX mnx: <https://rdf.metanetx.org/schema/>\n",
    "PREFIX uniprotkb: <http://purl.uniprot.org/uniprot/>\n",
    "\n",
    "SELECT DISTINCT ?mnxr_label\n",
    "\n",
    "WHERE{\n",
    "    ?pept a mnx:PEPT ;\n",
    "          mnx:peptXref uniprotkb:Q18A79 .\n",
    "    ?cata a mnx:CATA ;\n",
    "          mnx:pept ?pept .\n",
    "    ?gpr a mnx:GPR ;\n",
    "         mnx:cata ?cata ;\n",
    "         mnx:reac ?reac .\n",
    "    ?reac a mnx:REAC ;\n",
    "          mnx:mnxr ?mnxr .\n",
    "    ?mnxr rdfs:label ?mnxr_label .\n",
    "}"
   ]
  },
  {
   "cell_type": "markdown",
   "metadata": {},
   "source": [
    "For one protein, I get two identifiers:\n",
    "\n",
    "MNXR165934: \n",
    "\n",
    "1 \\[(1->4)-alpha-D-glucosyl\\](n) + 1 ADP-alpha-D-glucose \n",
    " <=> \n",
    "1 ADP + 1 \\[(1->4)-alpha-D-glucosyl\\](n+1)\n",
    "\n",
    "MNXR145046:\n",
    "\n",
    "1 ADP-alpha-D-glucose \n",
    " <=> \n",
    "1 ADP + 1 Glycogen\n",
    "\n"
   ]
  },
  {
   "cell_type": "markdown",
   "metadata": {},
   "source": [
    "-------------------"
   ]
  },
  {
   "cell_type": "markdown",
   "metadata": {},
   "source": [
    "#### FEDERATED QUERY - UniProt and MetaNetX"
   ]
  },
  {
   "cell_type": "markdown",
   "metadata": {},
   "source": [
    "#### Q10: 5 POINTS:  What is the official Gene ID (UniProt calls this a “mnemonic”) and the MetaNetX Reaction identifier (mnxr…..) for the protein that has “Starch synthase” catalytic activity in Clostridium difficile (taxon 272563)."
   ]
  },
  {
   "cell_type": "markdown",
   "metadata": {},
   "source": [
    "Adapting one example from: https://edu.sib.swiss/pluginfile.php/8024/mod_resource/content/4/SWAT4HCLS%202019_MP.pdf, and query 22 from: https://sparql.uniprot.org/.well-known/sparql-examples/?offset=0"
   ]
  },
  {
   "cell_type": "code",
   "execution_count": 20,
   "metadata": {},
   "outputs": [
    {
     "data": {
      "text/html": [
       "<div class=\"krn-spql\"><div class=\"magic\">Endpoint set to: https://sparql.uniprot.org/sparql</div></div>"
      ],
      "text/plain": [
       "Endpoint set to: https://sparql.uniprot.org/sparql\n"
      ]
     },
     "metadata": {},
     "output_type": "display_data"
    }
   ],
   "source": [
    "# uniprot endpoint\n",
    "%endpoint https://sparql.uniprot.org/sparql\n"
   ]
  },
  {
   "cell_type": "code",
   "execution_count": null,
   "metadata": {},
   "outputs": [],
   "source": [
    "PREFIX mnx: <https://rdf.metanetx.org/schema/>\n",
    "PREFIX uniprotkb: <http://purl.uniprot.org/uniprot/>\n",
    "PREFIX up: <http://purl.uniprot.org/core/>\n",
    "PREFIX taxon: <http://purl.uniprot.org/taxonomy/>\n",
    "\n",
    "\n",
    "SELECT \n",
    "?gene_id\n",
    "(GROUP_CONCAT(DISTINCT ?reac_id; separator=\",\") AS ?reac_ids)\n",
    "# Concatenating the reaction ids because there are two different ones (same as in Q9)\n",
    "WHERE\n",
    "{\n",
    "    # We're in Uniprot endpoint, SERVICE <https://sparql.uniprot.org/sparql> could be used but it is not needed\n",
    "    \n",
    "    # A protein from taxon 272563, with a mnemonic and classified with a GO term\n",
    "    ?protein a up:Protein ;\n",
    "        up:organism taxon:272563 ;\n",
    "        up:mnemonic ?gene_id ;\n",
    "        up:classifiedWith ?goTerm .\n",
    "    \n",
    "    # The GO Term must be molecular function, and have a label containing \"starch synthase\"\n",
    "    ?goTerm rdfs:subClassOf <http://purl.obolibrary.org/obo/GO_0003674> .\n",
    "    ?goTerm rdfs:label ?label .\n",
    "    FILTER REGEX(?label, \"starch synthase\", \"i\") .\n",
    "    \n",
    "    # Switching to the MetaNetX endpoint:\n",
    "  \n",
    "    SERVICE <https://rdf.metanetx.org/sparql> {\n",
    "        # Same as in Q9\n",
    "        ?pept a mnx:PEPT ;\n",
    "              mnx:peptXref ?protein .\n",
    "        ?cata a mnx:CATA ;\n",
    "              mnx:pept ?pept .\n",
    "        ?gpr a mnx:GPR ;\n",
    "             mnx:cata ?cata ;\n",
    "             mnx:reac ?reac .\n",
    "        ?reac a mnx:REAC ;\n",
    "              mnx:mnxr ?mnxr .\n",
    "        ?mnxr rdfs:label ?reac_id .\n",
    "    }\n",
    "} GROUP BY ?gene_id "
   ]
  },
  {
   "cell_type": "code",
   "execution_count": null,
   "metadata": {},
   "outputs": [],
   "source": []
  }
 ],
 "metadata": {
  "kernelspec": {
   "display_name": "SPARQL",
   "language": "sparql",
   "name": "sparql"
  },
  "language_info": {
   "codemirror_mode": {
    "name": "sparql"
   },
   "mimetype": "application/sparql-query",
   "name": "sparql",
   "pygments_lexer": "sparql-nb"
  }
 },
 "nbformat": 4,
 "nbformat_minor": 2
}
